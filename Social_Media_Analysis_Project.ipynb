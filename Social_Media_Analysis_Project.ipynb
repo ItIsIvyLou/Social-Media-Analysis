{
 "cells": [
  {
   "cell_type": "markdown",
   "metadata": {},
   "source": [
    "# Import libraries"
   ]
  },
  {
   "cell_type": "code",
   "execution_count": 1,
   "metadata": {},
   "outputs": [],
   "source": [
    "import pandas as pd\n",
    "from imgix import UrlBuilder\n",
    "from google.cloud import vision\n",
    "from google.oauth2 import service_account\n",
    "import os\n",
    "import lzma\n",
    "import json\n",
    "from sklearn.decomposition import LatentDirichletAllocation\n",
    "from gensim import corpora, models\n",
    "from gensim.matutils import Sparse2Corpus\n",
    "from gensim.models import CoherenceModel\n",
    "from sklearn.feature_extraction.text import CountVectorizer\n",
    "import numpy as np\n",
    "import matplotlib.pyplot as plt\n",
    "import seaborn as sns\n",
    "from gensim.models.ldamodel import LdaModel\n",
    "from sklearn.metrics.pairwise import cosine_similarity"
   ]
  },
  {
   "cell_type": "markdown",
   "metadata": {},
   "source": [
    "# Import Google Cloud credentials"
   ]
  },
  {
   "cell_type": "code",
   "execution_count": 2,
   "metadata": {},
   "outputs": [],
   "source": [
    "# Path to your service account key file\n",
    "key_path = \"/Users/qianlou/Documents/GitHub/Social-Media-Analysis/forward-cacao-420716-6d4b68655e6d.json\"\n",
    "\n",
    "# Set up Google Vision client\n",
    "credentials = service_account.Credentials.from_service_account_file(key_path)\n",
    "# Initialize the Vision API Client\n",
    "client = vision.ImageAnnotatorClient(credentials=credentials)\n",
    "\n",
    "def detect_labels(image_path):\n",
    "    \"\"\"Detect labels in the image at the given path using Google Vision API.\"\"\"\n",
    "    with open(image_path, 'rb') as image_file:\n",
    "        content = image_file.read()\n",
    "    image = vision.Image(content=content)\n",
    "    response = client.label_detection(image=image)\n",
    "    return [label.description for label in response.label_annotations]\n",
    "\n",
    "def find_key(data, target_key):\n",
    "    \"\"\"Recursively search for a key in JSON data.\"\"\"\n",
    "    if isinstance(data, dict):\n",
    "        for key, value in data.items():\n",
    "            if key == target_key:\n",
    "                return value\n",
    "            result = find_key(value, target_key)\n",
    "            if result:\n",
    "                return result\n",
    "    elif isinstance(data, list):\n",
    "        for item in data:\n",
    "            result = find_key(item, target_key)\n",
    "            if result:\n",
    "                return result"
   ]
  },
  {
   "cell_type": "markdown",
   "metadata": {},
   "source": [
    "# Import Data\n",
    "\n",
    "URL Link: https://www.kaggle.com/datasets/thecoderenroute/instagram-posts-dataset?resource=download"
   ]
  },
  {
   "cell_type": "code",
   "execution_count": 44,
   "metadata": {},
   "outputs": [],
   "source": [
    "data_folder_path = '/Users/qianlou/Documents/GitHub/Social-Media-Analysis/Data'\n",
    "\n",
    "data = []  # List to hold all data extracted and processed\n",
    "\n",
    "# Walk through the directory structure\n",
    "for root, dirs, files in os.walk(data_folder_path):\n",
    "    folder_name = os.path.basename(root)\n",
    "    parts = folder_name.rsplit('_', 4)  # Split from the right to capture the last four elements distinctly\n",
    "    \n",
    "    if len(parts) < 5:\n",
    "        continue  # Skip folders that do not have the expected number of parts\n",
    "\n",
    "    profile_name = parts[0]  # Everything before the last four parts is the profile name\n",
    "    follower_count, post_id, likes, comments = parts[1:]  # Unpack the last four parts in order\n",
    "    \n",
    "    all_labels = []\n",
    "    json_data = {}\n",
    "\n",
    "    for file in files:\n",
    "        file_path = os.path.join(root, file)\n",
    "        if file.endswith('.json.xz'):\n",
    "            with lzma.open(file_path, 'rt') as json_file:\n",
    "                json_data = json.load(json_file)\n",
    "        elif file.lower().endswith(('.png', '.jpg', '.jpeg')):\n",
    "            image_labels = detect_labels(file_path)\n",
    "            all_labels.extend(image_labels)\n",
    "\n",
    "    engagement_score = find_key(json_data, 'edge_media_to_comment')\n",
    "    engagement_count = engagement_score.get('count') if engagement_score and isinstance(engagement_score, dict) and 'count' in engagement_score else None\n",
    "\n",
    "    if all_labels:\n",
    "        data.append({\n",
    "            'profile_name': profile_name,\n",
    "            'follower_count': follower_count,\n",
    "            'post_id': post_id,\n",
    "            'likes': likes,\n",
    "            'comments': comments,\n",
    "            'labels': ' '.join(all_labels),\n",
    "            'engagement_score': engagement_count\n",
    "        })\n",
    "\n",
    "# Convert the list of data into a DataFrame\n",
    "df = pd.DataFrame(data)"
   ]
  },
  {
   "cell_type": "code",
   "execution_count": 64,
   "metadata": {},
   "outputs": [],
   "source": [
    "df.to_csv('data.csv', index=False)"
   ]
  },
  {
   "cell_type": "markdown",
   "metadata": {},
   "source": [
    "# Read Again"
   ]
  },
  {
   "cell_type": "code",
   "execution_count": 3,
   "metadata": {},
   "outputs": [],
   "source": [
    "df = pd.read_csv('data.csv')"
   ]
  },
  {
   "cell_type": "code",
   "execution_count": 4,
   "metadata": {},
   "outputs": [
    {
     "data": {
      "text/html": [
       "<div>\n",
       "<style scoped>\n",
       "    .dataframe tbody tr th:only-of-type {\n",
       "        vertical-align: middle;\n",
       "    }\n",
       "\n",
       "    .dataframe tbody tr th {\n",
       "        vertical-align: top;\n",
       "    }\n",
       "\n",
       "    .dataframe thead th {\n",
       "        text-align: right;\n",
       "    }\n",
       "</style>\n",
       "<table border=\"1\" class=\"dataframe\">\n",
       "  <thead>\n",
       "    <tr style=\"text-align: right;\">\n",
       "      <th></th>\n",
       "      <th>profile_name</th>\n",
       "      <th>follower_count</th>\n",
       "      <th>post_id</th>\n",
       "      <th>likes</th>\n",
       "      <th>comments</th>\n",
       "      <th>labels</th>\n",
       "      <th>engagement_score</th>\n",
       "    </tr>\n",
       "  </thead>\n",
       "  <tbody>\n",
       "    <tr>\n",
       "      <th>0</th>\n",
       "      <td>zomato</td>\n",
       "      <td>809822</td>\n",
       "      <td>3048876535670217534</td>\n",
       "      <td>22392</td>\n",
       "      <td>177</td>\n",
       "      <td>Food Ingredient Recipe Natural foods Cuisine D...</td>\n",
       "      <td>177</td>\n",
       "    </tr>\n",
       "    <tr>\n",
       "      <th>1</th>\n",
       "      <td>zomato</td>\n",
       "      <td>809822</td>\n",
       "      <td>3030021979666495337</td>\n",
       "      <td>17536</td>\n",
       "      <td>256</td>\n",
       "      <td>Rectangle Font Magenta Screenshot Parallel Num...</td>\n",
       "      <td>256</td>\n",
       "    </tr>\n",
       "    <tr>\n",
       "      <th>2</th>\n",
       "      <td>zomato</td>\n",
       "      <td>809822</td>\n",
       "      <td>3017722431480959941</td>\n",
       "      <td>6778</td>\n",
       "      <td>134</td>\n",
       "      <td>Font Screenshot Terrestrial plant Rectangle Nu...</td>\n",
       "      <td>134</td>\n",
       "    </tr>\n",
       "    <tr>\n",
       "      <th>3</th>\n",
       "      <td>zomato</td>\n",
       "      <td>809822</td>\n",
       "      <td>3058297827754329035</td>\n",
       "      <td>346067</td>\n",
       "      <td>1603</td>\n",
       "      <td>Bird Organism Beak Adaptation Terrestrial anim...</td>\n",
       "      <td>1603</td>\n",
       "    </tr>\n",
       "    <tr>\n",
       "      <th>4</th>\n",
       "      <td>zomato</td>\n",
       "      <td>809822</td>\n",
       "      <td>3053234851745688757</td>\n",
       "      <td>30434</td>\n",
       "      <td>142</td>\n",
       "      <td>Smile Product Happy Kitchen appliance Tablewar...</td>\n",
       "      <td>142</td>\n",
       "    </tr>\n",
       "  </tbody>\n",
       "</table>\n",
       "</div>"
      ],
      "text/plain": [
       "  profile_name  follower_count              post_id   likes  comments  \\\n",
       "0       zomato          809822  3048876535670217534   22392       177   \n",
       "1       zomato          809822  3030021979666495337   17536       256   \n",
       "2       zomato          809822  3017722431480959941    6778       134   \n",
       "3       zomato          809822  3058297827754329035  346067      1603   \n",
       "4       zomato          809822  3053234851745688757   30434       142   \n",
       "\n",
       "                                              labels  engagement_score  \n",
       "0  Food Ingredient Recipe Natural foods Cuisine D...               177  \n",
       "1  Rectangle Font Magenta Screenshot Parallel Num...               256  \n",
       "2  Font Screenshot Terrestrial plant Rectangle Nu...               134  \n",
       "3  Bird Organism Beak Adaptation Terrestrial anim...              1603  \n",
       "4  Smile Product Happy Kitchen appliance Tablewar...               142  "
      ]
     },
     "execution_count": 4,
     "metadata": {},
     "output_type": "execute_result"
    }
   ],
   "source": [
    "df.head(5)"
   ]
  },
  {
   "cell_type": "markdown",
   "metadata": {},
   "source": [
    "# Topic Modeling - Find the best number of topics"
   ]
  },
  {
   "cell_type": "code",
   "execution_count": 9,
   "metadata": {},
   "outputs": [
    {
     "name": "stderr",
     "output_type": "stream",
     "text": [
      "/Library/Frameworks/Python.framework/Versions/3.12/lib/python3.12/site-packages/sklearn/feature_extraction/text.py:525: UserWarning: The parameter 'token_pattern' will not be used since 'tokenizer' is not None'\n",
      "  warnings.warn(\n"
     ]
    },
    {
     "data": {
      "image/png": "[encoded data removed]",
      "text/plain": [
       "<Figure size 1500x700 with 1 Axes>"
      ]
     },
     "metadata": {},
     "output_type": "display_data"
    }
   ],
   "source": [
    "# Prepare data\n",
    "vectorizer = CountVectorizer(max_df=0.95, min_df=2, stop_words='english', tokenizer=lambda text: text.split())\n",
    "data_vectorized = vectorizer.fit_transform(df['labels'])\n",
    "\n",
    "# Compute LDA Models\n",
    "LDA_models = {n_topics: LatentDirichletAllocation(n_components=n_topics, random_state=42).fit(data_vectorized)\n",
    "              for n_topics in range(1, 6)}\n",
    "\n",
    "# Prepare for coherence calculations\n",
    "texts = [text.split() for text in df['labels']]\n",
    "dictionary = corpora.Dictionary(texts)\n",
    "corpus = [dictionary.doc2bow(text) for text in texts]\n",
    "\n",
    "# Calculate Coherence and handle possible errors\n",
    "coherences = {}\n",
    "for n_topics, model in LDA_models.items():\n",
    "    topics = []\n",
    "    for topic_idx, topic_dist in enumerate(model.components_):\n",
    "        topic_terms = topic_dist.argsort()[-26:][::-1]\n",
    "        topic_words = [dictionary[id] for id in topic_terms if id < len(dictionary)]\n",
    "        topics.append(topic_words)\n",
    "    if topics:\n",
    "        coherence_model = CoherenceModel(topics=topics, texts=texts, dictionary=dictionary, coherence='c_v')\n",
    "        coherence = coherence_model.get_coherence()\n",
    "        coherences[n_topics] = coherence\n",
    "\n",
    "# Calculate Jaccard similarity for topic stability\n",
    "def jaccard_similarity(topic_1, topic_2):\n",
    "    intersection = set(topic_1).intersection(set(topic_2))\n",
    "    union = set(topic_1).union(set(topic_2))\n",
    "    return float(len(intersection)) / float(len(union))\n",
    "\n",
    "LDA_stability = {}\n",
    "num_keywords = 26\n",
    "for i in range(1, 5):  \n",
    "    jaccard_sims = []\n",
    "    current_topics = [set(top.argsort()[-num_keywords:]) for top in LDA_models[i].components_]\n",
    "    next_topics = [set(top.argsort()[-num_keywords:]) for top in LDA_models[i + 1].components_]\n",
    "    for current_topic in current_topics:\n",
    "        sims = [jaccard_similarity(current_topic, next_topic) for next_topic in next_topics]\n",
    "        jaccard_sims.append(sims)\n",
    "    LDA_stability[i] = np.mean(jaccard_sims)\n",
    "\n",
    "# Combine coherence and stability to determine the ideal number of topics\n",
    "coh_sta_diffs = [coherences[i] - LDA_stability[i] for i in range(1, 5)]\n",
    "ideal_topic_num_index = np.argmax(coh_sta_diffs)\n",
    "ideal_topic_num = ideal_topic_num_index + 1  # Adjusting for zero index\n",
    "\n",
    "# Plot results\n",
    "plt.figure(figsize=(15, 7))\n",
    "sns.lineplot(x=list(range(1, 5)), y=[coherences[i] for i in range(1, 5)], label='Topic Coherence', marker='o')\n",
    "sns.lineplot(x=list(range(1, 5)), y=[LDA_stability[i] for i in range(1, 5)], label='Average Topic Overlap', marker='o')\n",
    "plt.axvline(x=ideal_topic_num, label=f'Ideal Number of Topics: {ideal_topic_num}', color='red')\n",
    "plt.title('Optimal Number of Topics Based on Coherence and Stability')\n",
    "plt.xlabel('Number of Topics')\n",
    "plt.ylabel('Metric Value')\n",
    "plt.legend()\n",
    "plt.show()"
   ]
  },
  {
   "cell_type": "markdown",
   "metadata": {},
   "source": [
    "## Best number of topics is 3, Re-run LDA with 3 topics"
   ]
  },
  {
   "cell_type": "code",
   "execution_count": 26,
   "metadata": {},
   "outputs": [
    {
     "name": "stdout",
     "output_type": "stream",
     "text": [
      "['font', 'automotive', 'vehicle', 'tire', 'design', 'blue', 'car', 'electric', 'wheel', 'brand', 'rectangle', 'motor', 'circle', 'logo', 'lighting', 'event', 'hood', 'graphics', 'number', 'screenshot', 'advertising', 'magenta', 'sky', 'poster', 'art']\n",
      "['sports', 'food', 'ingredient', 'tableware', 'jersey', 'recipe', 'cuisine', 'uniform', 'player', 'baseball', 'dish', 'equipment', 'gesture', 'plate', 'cap', 'dishware', 'gear', 'produce', 'vegetable', 'shorts', 'baked', 'goods', 'ball', 'staple', 'event']\n",
      "['fashion', 'smile', 'sleeve', 'happy', 'photography', 'flash', 'design', 'waist', 'thigh', 'plant', 'shoulder', 'dress', 'sky', 'hair', 'gesture', 'leisure', 'neck', 'eyewear', 'event', 'people', 'fun', 'human', 'leg', 'joint', 'nature']\n"
     ]
    }
   ],
   "source": [
    "# Convert image labels to a matrix of token counts\n",
    "vectorizer = CountVectorizer(max_df=0.95, min_df=2, stop_words='english', tokenizer=lambda text: text.split())\n",
    "X = vectorizer.fit_transform(df['labels'])\n",
    "\n",
    "# Fit LDA model\n",
    "lda = LatentDirichletAllocation(n_components=3, random_state=0)  \n",
    "topics = lda.fit_transform(X)\n",
    "\n",
    "# Display top 25 words for each topic\n",
    "features = vectorizer.get_feature_names_out()\n",
    "top_words = lambda t: [features[i] for i in np.argsort(t)[:-26:-1]]\n",
    "topic_words = {i: top_words(t) for i, t in enumerate(lda.components_)}\n",
    "\n",
    "print(topic_words[0])\n",
    "print(topic_words[1])\n",
    "print(topic_words[2])"
   ]
  },
  {
   "cell_type": "markdown",
   "metadata": {},
   "source": [
    "## Interpretation of the topics"
   ]
  },
  {
   "cell_type": "markdown",
   "metadata": {},
   "source": [
    "1. **Automotive Design**: This topic seems to revolve around automotive-related terms like \"vehicle,\" \"car,\" \"electric,\" \"wheel,\" and \"logo,\" suggesting discussions or images related to automotive design and branding.\n",
    "\n",
    "2. **Sports and Food**: This topic appears to encompass terms related to both sports and food, including \"sports,\" \"food,\" \"jersey,\" \"recipe,\" \"cuisine,\" \"player,\" \"dish,\" \"gear,\" and \"vegetable,\" indicating content related to sports events, food recipes, or possibly sports nutrition.\n",
    "\n",
    "3. **Fashion and Photography**: This topic includes terms related to fashion, photography, and leisure activities, such as \"fashion,\" \"smile,\" \"photography,\" \"dress,\" \"hair,\" \"leisure,\" and \"eyewear,\" indicating content related to fashion trends, photography, and leisure activities."
   ]
  },
  {
   "cell_type": "markdown",
   "metadata": {},
   "source": [
    "## Calculate average topic weights for each quartile"
   ]
  },
  {
   "cell_type": "code",
   "execution_count": 28,
   "metadata": {},
   "outputs": [
    {
     "data": {
      "text/html": [
       "<div>\n",
       "<style scoped>\n",
       "    .dataframe tbody tr th:only-of-type {\n",
       "        vertical-align: middle;\n",
       "    }\n",
       "\n",
       "    .dataframe tbody tr th {\n",
       "        vertical-align: top;\n",
       "    }\n",
       "\n",
       "    .dataframe thead th {\n",
       "        text-align: right;\n",
       "    }\n",
       "</style>\n",
       "<table border=\"1\" class=\"dataframe\">\n",
       "  <thead>\n",
       "    <tr style=\"text-align: right;\">\n",
       "      <th></th>\n",
       "      <th>Topic</th>\n",
       "      <th>Avg Weight - First Quartile</th>\n",
       "      <th>Avg Weight - Last Quartile</th>\n",
       "    </tr>\n",
       "  </thead>\n",
       "  <tbody>\n",
       "    <tr>\n",
       "      <th>0</th>\n",
       "      <td>Automotive Design</td>\n",
       "      <td>0.227844</td>\n",
       "      <td>0.155931</td>\n",
       "    </tr>\n",
       "    <tr>\n",
       "      <th>1</th>\n",
       "      <td>Sports and Food</td>\n",
       "      <td>0.176928</td>\n",
       "      <td>0.250905</td>\n",
       "    </tr>\n",
       "    <tr>\n",
       "      <th>2</th>\n",
       "      <td>Fashion and Photography</td>\n",
       "      <td>0.595228</td>\n",
       "      <td>0.593164</td>\n",
       "    </tr>\n",
       "  </tbody>\n",
       "</table>\n",
       "</div>"
      ],
      "text/plain": [
       "                     Topic  Avg Weight - First Quartile  \\\n",
       "0        Automotive Design                     0.227844   \n",
       "1          Sports and Food                     0.176928   \n",
       "2  Fashion and Photography                     0.595228   \n",
       "\n",
       "   Avg Weight - Last Quartile  \n",
       "0                    0.155931  \n",
       "1                    0.250905  \n",
       "2                    0.593164  "
      ]
     },
     "execution_count": 28,
     "metadata": {},
     "output_type": "execute_result"
    }
   ],
   "source": [
    "topic_names = {\n",
    "    0: \"Automotive Design\",\n",
    "    1: \"Sports and Food\",\n",
    "    2: \"Fashion and Photography\"\n",
    "}\n",
    "\n",
    "df_sorted = df.sort_values(by='comments', ascending=False)\n",
    "\n",
    "# Divide the data into quartiles\n",
    "num_images = len(df_sorted)\n",
    "quartile_size = num_images // 4\n",
    "last_quartile = df_sorted[:quartile_size]  # Highest quartile\n",
    "first_quartile = df_sorted[-quartile_size:]  # Lowest quartile\n",
    "\n",
    "# Convert image labels to a matrix of token counts for both quartiles\n",
    "X_first = vectorizer.transform(first_quartile['labels'])\n",
    "X_last = vectorizer.transform(last_quartile['labels'])\n",
    "\n",
    "# Get topic distributions for each quartile\n",
    "topics_first = lda.transform(X_first)\n",
    "topics_last = lda.transform(X_last)\n",
    "\n",
    "# Calculate average topic weights for each quartile\n",
    "avg_weights_first = topics_first.mean(axis=0)\n",
    "avg_weights_last = topics_last.mean(axis=0)\n",
    "\n",
    "# Create a DataFrame to display the results\n",
    "results_df = pd.DataFrame({\n",
    "    'Topic': [topic_names[i] for i in range(3)],\n",
    "    'Avg Weight - First Quartile': avg_weights_first,\n",
    "    'Avg Weight - Last Quartile': avg_weights_last\n",
    "})\n",
    "\n",
    "results_df"
   ]
  },
  {
   "cell_type": "markdown",
   "metadata": {},
   "source": [
    "# Suggestion for the influencer"
   ]
  },
  {
   "cell_type": "markdown",
   "metadata": {},
   "source": [
    "Based on the analysis of the Instagram image labels and engagement metrics across multiple users, it's clear that certain topics attract more interest and engagement than others. These topics include **Automotive Design**, **Sports and Food**, and **Fashion and Photography**, each appealing to different segments of your audience. The data indicates varying levels of engagement across different quartiles, highlighting areas where adjustments to your content strategy could potentially enhance overall engagement.\n",
    "\n",
    "To improve engagement across the influencer's Instagram page, it's advisable to tailor the content strategy to cater to the interests of the diverse audience. Firstly, given the consistent engagement observed for Fashion and Photography content across all quartiles, it would be prudent to continue producing visually captivating and high-quality posts in this category. Additionally, leveraging user-generated content or collaborations with influencers within the fashion and photography niche can further enhance engagement and community involvement.\n",
    "\n",
    "Conversely, topics such as Automotive Design may benefit from a more targeted approach to re-engage users in the last quartile. This could involve diversifying content to include a mix of informative posts, behind-the-scenes looks, or interactive content such as polls or Q&A sessions to reignite interest and encourage active participation from users interested in automotive-related content.\n",
    "\n",
    "By analyzing engagement patterns across different topics and user segments, the influencer can refine the content strategy to better align with the preferences and interests of the audience, ultimately fostering a more engaged and interactive community on the Instagram page."
   ]
  },
  {
   "cell_type": "markdown",
   "metadata": {},
   "source": []
  }
 ],
 "metadata": {
  "kernelspec": {
   "display_name": "Python 3",
   "language": "python",
   "name": "python3"
  },
  "language_info": {
   "codemirror_mode": {
    "name": "ipython",
    "version": 3
   },
   "file_extension": ".py",
   "mimetype": "text/x-python",
   "name": "python",
   "nbconvert_exporter": "python",
   "pygments_lexer": "ipython3",
   "version": "3.12.1"
  }
 },
 "nbformat": 4,
 "nbformat_minor": 2
}
